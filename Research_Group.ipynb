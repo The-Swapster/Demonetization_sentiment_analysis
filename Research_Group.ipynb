{
 "cells": [
  {
   "cell_type": "markdown",
   "id": "3408c3ba",
   "metadata": {},
   "source": [
    "# Sentiment and Emotion analysis of Tweets by Indian during the Demonetization period"
   ]
  },
  {
   "cell_type": "code",
   "execution_count": 1,
   "id": "1943b3b4",
   "metadata": {},
   "outputs": [],
   "source": [
    "# importing the libraries\n",
    "import numpy as np\n",
    "import pandas as pd\n",
    "import matplotlib.pyplot as plt\n",
    "import seaborn as sns\n",
    "%matplotlib inline\n",
    "import pickle\n",
    "from sklearn.tree import DecisionTreeClassifier\n",
    "import nltk\n",
    "from nltk import word_tokenize, FreqDist\n",
    "from nltk.corpus import stopwords\n",
    "from nltk.stem import WordNetLemmatizer\n",
    "from nltk.tokenize import TweetTokenizer\n",
    "from sklearn.feature_extraction.text import TfidfVectorizer\n",
    "from sklearn.pipeline import Pipeline\n",
    "from sklearn.metrics import classification_report, confusion_matrix\n",
    "from sklearn.model_selection import train_test_split\n",
    "from sklearn.ensemble import RandomForestClassifier"
   ]
  },
  {
   "cell_type": "code",
   "execution_count": 2,
   "id": "9ce83001",
   "metadata": {},
   "outputs": [
    {
     "data": {
      "text/html": [
       "<div>\n",
       "<style scoped>\n",
       "    .dataframe tbody tr th:only-of-type {\n",
       "        vertical-align: middle;\n",
       "    }\n",
       "\n",
       "    .dataframe tbody tr th {\n",
       "        vertical-align: top;\n",
       "    }\n",
       "\n",
       "    .dataframe thead th {\n",
       "        text-align: right;\n",
       "    }\n",
       "</style>\n",
       "<table border=\"1\" class=\"dataframe\">\n",
       "  <thead>\n",
       "    <tr style=\"text-align: right;\">\n",
       "      <th></th>\n",
       "      <th>Unnamed: 0</th>\n",
       "      <th>X</th>\n",
       "      <th>text</th>\n",
       "      <th>favorited</th>\n",
       "      <th>favoriteCount</th>\n",
       "      <th>replyToSN</th>\n",
       "      <th>created</th>\n",
       "      <th>truncated</th>\n",
       "      <th>replyToSID</th>\n",
       "      <th>id</th>\n",
       "      <th>replyToUID</th>\n",
       "      <th>statusSource</th>\n",
       "      <th>screenName</th>\n",
       "      <th>retweetCount</th>\n",
       "      <th>isRetweet</th>\n",
       "      <th>retweeted</th>\n",
       "    </tr>\n",
       "  </thead>\n",
       "  <tbody>\n",
       "    <tr>\n",
       "      <th>0</th>\n",
       "      <td>1</td>\n",
       "      <td>1</td>\n",
       "      <td>RT @rssurjewala: Critical question: Was PayTM ...</td>\n",
       "      <td>False</td>\n",
       "      <td>0</td>\n",
       "      <td>NaN</td>\n",
       "      <td>2016-11-23 18:40:30</td>\n",
       "      <td>False</td>\n",
       "      <td>NaN</td>\n",
       "      <td>8.014957e+17</td>\n",
       "      <td>NaN</td>\n",
       "      <td>&lt;a href=\"http://twitter.com/download/android\" ...</td>\n",
       "      <td>HASHTAGFARZIWAL</td>\n",
       "      <td>331</td>\n",
       "      <td>True</td>\n",
       "      <td>False</td>\n",
       "    </tr>\n",
       "    <tr>\n",
       "      <th>1</th>\n",
       "      <td>2</td>\n",
       "      <td>2</td>\n",
       "      <td>RT @Hemant_80: Did you vote on #Demonetization...</td>\n",
       "      <td>False</td>\n",
       "      <td>0</td>\n",
       "      <td>NaN</td>\n",
       "      <td>2016-11-23 18:40:29</td>\n",
       "      <td>False</td>\n",
       "      <td>NaN</td>\n",
       "      <td>8.014957e+17</td>\n",
       "      <td>NaN</td>\n",
       "      <td>&lt;a href=\"http://twitter.com/download/android\" ...</td>\n",
       "      <td>PRAMODKAUSHIK9</td>\n",
       "      <td>66</td>\n",
       "      <td>True</td>\n",
       "      <td>False</td>\n",
       "    </tr>\n",
       "    <tr>\n",
       "      <th>2</th>\n",
       "      <td>3</td>\n",
       "      <td>3</td>\n",
       "      <td>RT @roshankar: Former FinSec, RBI Dy Governor,...</td>\n",
       "      <td>False</td>\n",
       "      <td>0</td>\n",
       "      <td>NaN</td>\n",
       "      <td>2016-11-23 18:40:03</td>\n",
       "      <td>False</td>\n",
       "      <td>NaN</td>\n",
       "      <td>8.014955e+17</td>\n",
       "      <td>NaN</td>\n",
       "      <td>&lt;a href=\"http://twitter.com/download/android\" ...</td>\n",
       "      <td>rahulja13034944</td>\n",
       "      <td>12</td>\n",
       "      <td>True</td>\n",
       "      <td>False</td>\n",
       "    </tr>\n",
       "    <tr>\n",
       "      <th>3</th>\n",
       "      <td>4</td>\n",
       "      <td>4</td>\n",
       "      <td>RT @ANI_news: Gurugram (Haryana): Post office ...</td>\n",
       "      <td>False</td>\n",
       "      <td>0</td>\n",
       "      <td>NaN</td>\n",
       "      <td>2016-11-23 18:39:59</td>\n",
       "      <td>False</td>\n",
       "      <td>NaN</td>\n",
       "      <td>8.014955e+17</td>\n",
       "      <td>NaN</td>\n",
       "      <td>&lt;a href=\"http://twitter.com/download/android\" ...</td>\n",
       "      <td>deeptiyvd</td>\n",
       "      <td>338</td>\n",
       "      <td>True</td>\n",
       "      <td>False</td>\n",
       "    </tr>\n",
       "    <tr>\n",
       "      <th>4</th>\n",
       "      <td>5</td>\n",
       "      <td>5</td>\n",
       "      <td>RT @satishacharya: Reddy Wedding! @mail_today ...</td>\n",
       "      <td>False</td>\n",
       "      <td>0</td>\n",
       "      <td>NaN</td>\n",
       "      <td>2016-11-23 18:39:39</td>\n",
       "      <td>False</td>\n",
       "      <td>NaN</td>\n",
       "      <td>8.014954e+17</td>\n",
       "      <td>NaN</td>\n",
       "      <td>&lt;a href=\"http://cpimharyana.com\" rel=\"nofollow...</td>\n",
       "      <td>CPIMBadli</td>\n",
       "      <td>120</td>\n",
       "      <td>True</td>\n",
       "      <td>False</td>\n",
       "    </tr>\n",
       "  </tbody>\n",
       "</table>\n",
       "</div>"
      ],
      "text/plain": [
       "   Unnamed: 0  X                                               text  \\\n",
       "0           1  1  RT @rssurjewala: Critical question: Was PayTM ...   \n",
       "1           2  2  RT @Hemant_80: Did you vote on #Demonetization...   \n",
       "2           3  3  RT @roshankar: Former FinSec, RBI Dy Governor,...   \n",
       "3           4  4  RT @ANI_news: Gurugram (Haryana): Post office ...   \n",
       "4           5  5  RT @satishacharya: Reddy Wedding! @mail_today ...   \n",
       "\n",
       "   favorited  favoriteCount replyToSN              created  truncated  \\\n",
       "0      False              0       NaN  2016-11-23 18:40:30      False   \n",
       "1      False              0       NaN  2016-11-23 18:40:29      False   \n",
       "2      False              0       NaN  2016-11-23 18:40:03      False   \n",
       "3      False              0       NaN  2016-11-23 18:39:59      False   \n",
       "4      False              0       NaN  2016-11-23 18:39:39      False   \n",
       "\n",
       "   replyToSID            id  replyToUID  \\\n",
       "0         NaN  8.014957e+17         NaN   \n",
       "1         NaN  8.014957e+17         NaN   \n",
       "2         NaN  8.014955e+17         NaN   \n",
       "3         NaN  8.014955e+17         NaN   \n",
       "4         NaN  8.014954e+17         NaN   \n",
       "\n",
       "                                        statusSource       screenName  \\\n",
       "0  <a href=\"http://twitter.com/download/android\" ...  HASHTAGFARZIWAL   \n",
       "1  <a href=\"http://twitter.com/download/android\" ...   PRAMODKAUSHIK9   \n",
       "2  <a href=\"http://twitter.com/download/android\" ...  rahulja13034944   \n",
       "3  <a href=\"http://twitter.com/download/android\" ...        deeptiyvd   \n",
       "4  <a href=\"http://cpimharyana.com\" rel=\"nofollow...        CPIMBadli   \n",
       "\n",
       "   retweetCount  isRetweet  retweeted  \n",
       "0           331       True      False  \n",
       "1            66       True      False  \n",
       "2            12       True      False  \n",
       "3           338       True      False  \n",
       "4           120       True      False  "
      ]
     },
     "execution_count": 2,
     "metadata": {},
     "output_type": "execute_result"
    }
   ],
   "source": [
    "# reading and viewing the dataset\n",
    "df = pd.read_csv(\"D:\\Datasets\\demonetization-tweets\\demonetization-tweets.csv\")\n",
    "df.head()"
   ]
  },
  {
   "cell_type": "code",
   "execution_count": 3,
   "id": "026098ca",
   "metadata": {},
   "outputs": [
    {
     "data": {
      "text/plain": [
       "(14940, 16)"
      ]
     },
     "execution_count": 3,
     "metadata": {},
     "output_type": "execute_result"
    }
   ],
   "source": [
    "# printing the shape of the dataset\n",
    "df.shape"
   ]
  },
  {
   "cell_type": "code",
   "execution_count": 4,
   "id": "65b7404a",
   "metadata": {},
   "outputs": [],
   "source": [
    "# removing unwanted columns\n",
    "df=df.drop('Unnamed: 0', axis=1)"
   ]
  },
  {
   "cell_type": "code",
   "execution_count": 5,
   "id": "f81faa45",
   "metadata": {},
   "outputs": [
    {
     "data": {
      "text/html": [
       "<div>\n",
       "<style scoped>\n",
       "    .dataframe tbody tr th:only-of-type {\n",
       "        vertical-align: middle;\n",
       "    }\n",
       "\n",
       "    .dataframe tbody tr th {\n",
       "        vertical-align: top;\n",
       "    }\n",
       "\n",
       "    .dataframe thead th {\n",
       "        text-align: right;\n",
       "    }\n",
       "</style>\n",
       "<table border=\"1\" class=\"dataframe\">\n",
       "  <thead>\n",
       "    <tr style=\"text-align: right;\">\n",
       "      <th></th>\n",
       "      <th>text</th>\n",
       "    </tr>\n",
       "  </thead>\n",
       "  <tbody>\n",
       "    <tr>\n",
       "      <th>0</th>\n",
       "      <td>RT @rssurjewala: Critical question: Was PayTM ...</td>\n",
       "    </tr>\n",
       "    <tr>\n",
       "      <th>1</th>\n",
       "      <td>RT @Hemant_80: Did you vote on #Demonetization...</td>\n",
       "    </tr>\n",
       "    <tr>\n",
       "      <th>2</th>\n",
       "      <td>RT @roshankar: Former FinSec, RBI Dy Governor,...</td>\n",
       "    </tr>\n",
       "    <tr>\n",
       "      <th>3</th>\n",
       "      <td>RT @ANI_news: Gurugram (Haryana): Post office ...</td>\n",
       "    </tr>\n",
       "    <tr>\n",
       "      <th>4</th>\n",
       "      <td>RT @satishacharya: Reddy Wedding! @mail_today ...</td>\n",
       "    </tr>\n",
       "  </tbody>\n",
       "</table>\n",
       "</div>"
      ],
      "text/plain": [
       "                                                text\n",
       "0  RT @rssurjewala: Critical question: Was PayTM ...\n",
       "1  RT @Hemant_80: Did you vote on #Demonetization...\n",
       "2  RT @roshankar: Former FinSec, RBI Dy Governor,...\n",
       "3  RT @ANI_news: Gurugram (Haryana): Post office ...\n",
       "4  RT @satishacharya: Reddy Wedding! @mail_today ..."
      ]
     },
     "execution_count": 5,
     "metadata": {},
     "output_type": "execute_result"
    }
   ],
   "source": [
    "# removing unwanted columns\n",
    "df=df.drop(['X','favorited','favoriteCount', 'replyToSN', 'created', 'truncated', 'replyToSID', 'id', 'replyToUID', 'statusSource', 'screenName', 'retweetCount', 'isRetweet', 'retweeted'],axis=1)\n",
    "df.head()"
   ]
  },
  {
   "cell_type": "code",
   "execution_count": 6,
   "id": "66733e08",
   "metadata": {},
   "outputs": [
    {
     "name": "stdout",
     "output_type": "stream",
     "text": [
      "<class 'pandas.core.frame.DataFrame'>\n",
      "RangeIndex: 14940 entries, 0 to 14939\n",
      "Data columns (total 1 columns):\n",
      " #   Column  Non-Null Count  Dtype \n",
      "---  ------  --------------  ----- \n",
      " 0   text    14940 non-null  object\n",
      "dtypes: object(1)\n",
      "memory usage: 116.8+ KB\n"
     ]
    }
   ],
   "source": [
    "# checking for null values\n",
    "df.info()"
   ]
  },
  {
   "cell_type": "code",
   "execution_count": 7,
   "id": "7295ca4b",
   "metadata": {},
   "outputs": [
    {
     "data": {
      "text/plain": [
       "text    0\n",
       "dtype: int64"
      ]
     },
     "execution_count": 7,
     "metadata": {},
     "output_type": "execute_result"
    }
   ],
   "source": [
    "# checking for null values\n",
    "df.isnull().sum()"
   ]
  },
  {
   "cell_type": "code",
   "execution_count": 8,
   "id": "94352684",
   "metadata": {},
   "outputs": [
    {
     "data": {
      "text/html": [
       "<div>\n",
       "<style scoped>\n",
       "    .dataframe tbody tr th:only-of-type {\n",
       "        vertical-align: middle;\n",
       "    }\n",
       "\n",
       "    .dataframe tbody tr th {\n",
       "        vertical-align: top;\n",
       "    }\n",
       "\n",
       "    .dataframe thead th {\n",
       "        text-align: right;\n",
       "    }\n",
       "</style>\n",
       "<table border=\"1\" class=\"dataframe\">\n",
       "  <thead>\n",
       "    <tr style=\"text-align: right;\">\n",
       "      <th></th>\n",
       "      <th>text</th>\n",
       "    </tr>\n",
       "  </thead>\n",
       "  <tbody>\n",
       "    <tr>\n",
       "      <th>0</th>\n",
       "      <td>rt @rssurjewala: critical question: was paytm ...</td>\n",
       "    </tr>\n",
       "    <tr>\n",
       "      <th>1</th>\n",
       "      <td>rt @hemant_80: did you vote on #demonetization...</td>\n",
       "    </tr>\n",
       "    <tr>\n",
       "      <th>2</th>\n",
       "      <td>rt @roshankar: former finsec, rbi dy governor,...</td>\n",
       "    </tr>\n",
       "    <tr>\n",
       "      <th>3</th>\n",
       "      <td>rt @ani_news: gurugram (haryana): post office ...</td>\n",
       "    </tr>\n",
       "    <tr>\n",
       "      <th>4</th>\n",
       "      <td>rt @satishacharya: reddy wedding! @mail_today ...</td>\n",
       "    </tr>\n",
       "    <tr>\n",
       "      <th>...</th>\n",
       "      <td>...</td>\n",
       "    </tr>\n",
       "    <tr>\n",
       "      <th>14935</th>\n",
       "      <td>rt @saxenavishakha: ghost of demonetization re...</td>\n",
       "    </tr>\n",
       "    <tr>\n",
       "      <th>14936</th>\n",
       "      <td>n d modi fans-d true nationalists of the count...</td>\n",
       "    </tr>\n",
       "    <tr>\n",
       "      <th>14937</th>\n",
       "      <td>rt @bharat_builder: lol. demonetization has fi...</td>\n",
       "    </tr>\n",
       "    <tr>\n",
       "      <th>14938</th>\n",
       "      <td>rt @stupidosaur: @vidyut b team of bjp. cia ba...</td>\n",
       "    </tr>\n",
       "    <tr>\n",
       "      <th>14939</th>\n",
       "      <td>@vidyut b team of bjp. cia baby. cctv, evm but...</td>\n",
       "    </tr>\n",
       "  </tbody>\n",
       "</table>\n",
       "<p>14940 rows × 1 columns</p>\n",
       "</div>"
      ],
      "text/plain": [
       "                                                    text\n",
       "0      rt @rssurjewala: critical question: was paytm ...\n",
       "1      rt @hemant_80: did you vote on #demonetization...\n",
       "2      rt @roshankar: former finsec, rbi dy governor,...\n",
       "3      rt @ani_news: gurugram (haryana): post office ...\n",
       "4      rt @satishacharya: reddy wedding! @mail_today ...\n",
       "...                                                  ...\n",
       "14935  rt @saxenavishakha: ghost of demonetization re...\n",
       "14936  n d modi fans-d true nationalists of the count...\n",
       "14937  rt @bharat_builder: lol. demonetization has fi...\n",
       "14938  rt @stupidosaur: @vidyut b team of bjp. cia ba...\n",
       "14939  @vidyut b team of bjp. cia baby. cctv, evm but...\n",
       "\n",
       "[14940 rows x 1 columns]"
      ]
     },
     "execution_count": 8,
     "metadata": {},
     "output_type": "execute_result"
    }
   ],
   "source": [
    "# converting all tweets to lower case\n",
    "df['text'] = df['text'].astype(str).str.lower()\n",
    "df"
   ]
  },
  {
   "cell_type": "code",
   "execution_count": 9,
   "id": "07d93332",
   "metadata": {},
   "outputs": [
    {
     "name": "stderr",
     "output_type": "stream",
     "text": [
      "<ipython-input-9-ae648031fdb8>:2: FutureWarning: The default value of regex will change from True to False in a future version.\n",
      "  df['text'] = df['text'].str.replace(r'[^\\w\\s]+', '')\n"
     ]
    },
    {
     "data": {
      "text/html": [
       "<div>\n",
       "<style scoped>\n",
       "    .dataframe tbody tr th:only-of-type {\n",
       "        vertical-align: middle;\n",
       "    }\n",
       "\n",
       "    .dataframe tbody tr th {\n",
       "        vertical-align: top;\n",
       "    }\n",
       "\n",
       "    .dataframe thead th {\n",
       "        text-align: right;\n",
       "    }\n",
       "</style>\n",
       "<table border=\"1\" class=\"dataframe\">\n",
       "  <thead>\n",
       "    <tr style=\"text-align: right;\">\n",
       "      <th></th>\n",
       "      <th>text</th>\n",
       "    </tr>\n",
       "  </thead>\n",
       "  <tbody>\n",
       "    <tr>\n",
       "      <th>0</th>\n",
       "      <td>rt rssurjewala critical question was paytm inf...</td>\n",
       "    </tr>\n",
       "    <tr>\n",
       "      <th>1</th>\n",
       "      <td>rt hemant_80 did you vote on demonetization on...</td>\n",
       "    </tr>\n",
       "    <tr>\n",
       "      <th>2</th>\n",
       "      <td>rt roshankar former finsec rbi dy governor cbd...</td>\n",
       "    </tr>\n",
       "    <tr>\n",
       "      <th>3</th>\n",
       "      <td>rt ani_news gurugram haryana post office emplo...</td>\n",
       "    </tr>\n",
       "    <tr>\n",
       "      <th>4</th>\n",
       "      <td>rt satishacharya reddy wedding mail_today cart...</td>\n",
       "    </tr>\n",
       "    <tr>\n",
       "      <th>...</th>\n",
       "      <td>...</td>\n",
       "    </tr>\n",
       "    <tr>\n",
       "      <th>14935</th>\n",
       "      <td>rt saxenavishakha ghost of demonetization retu...</td>\n",
       "    </tr>\n",
       "    <tr>\n",
       "      <th>14936</th>\n",
       "      <td>n d modi fansd true nationalists of the countr...</td>\n",
       "    </tr>\n",
       "    <tr>\n",
       "      <th>14937</th>\n",
       "      <td>rt bharat_builder lol demonetization has fixed...</td>\n",
       "    </tr>\n",
       "    <tr>\n",
       "      <th>14938</th>\n",
       "      <td>rt stupidosaur vidyut b team of bjp cia baby c...</td>\n",
       "    </tr>\n",
       "    <tr>\n",
       "      <th>14939</th>\n",
       "      <td>vidyut b team of bjp cia baby cctv evm but wit...</td>\n",
       "    </tr>\n",
       "  </tbody>\n",
       "</table>\n",
       "<p>14940 rows × 1 columns</p>\n",
       "</div>"
      ],
      "text/plain": [
       "                                                    text\n",
       "0      rt rssurjewala critical question was paytm inf...\n",
       "1      rt hemant_80 did you vote on demonetization on...\n",
       "2      rt roshankar former finsec rbi dy governor cbd...\n",
       "3      rt ani_news gurugram haryana post office emplo...\n",
       "4      rt satishacharya reddy wedding mail_today cart...\n",
       "...                                                  ...\n",
       "14935  rt saxenavishakha ghost of demonetization retu...\n",
       "14936  n d modi fansd true nationalists of the countr...\n",
       "14937  rt bharat_builder lol demonetization has fixed...\n",
       "14938  rt stupidosaur vidyut b team of bjp cia baby c...\n",
       "14939  vidyut b team of bjp cia baby cctv evm but wit...\n",
       "\n",
       "[14940 rows x 1 columns]"
      ]
     },
     "execution_count": 9,
     "metadata": {},
     "output_type": "execute_result"
    }
   ],
   "source": [
    "# removing punctuations\n",
    "df['text'] = df['text'].str.replace(r'[^\\w\\s]+', '')\n",
    "df"
   ]
  },
  {
   "cell_type": "code",
   "execution_count": 10,
   "id": "409cf8ac",
   "metadata": {},
   "outputs": [],
   "source": [
    "# lematizing and tokenizing the text\n",
    "lemmatizer = nltk.stem.WordNetLemmatizer()\n",
    "w_tokenizer = TweetTokenizer()\n",
    "def lemmatize_text(text):\n",
    " return [(lemmatizer.lemmatize(w)) for w in \\\n",
    "                                     w_tokenizer.tokenize((text))]"
   ]
  },
  {
   "cell_type": "code",
   "execution_count": 11,
   "id": "59cfef51",
   "metadata": {},
   "outputs": [],
   "source": [
    "# lematizing and tokenizing the text\n",
    "df['TL_text']=df['text'].apply(lemmatize_text)"
   ]
  },
  {
   "cell_type": "code",
   "execution_count": 12,
   "id": "4d63170a",
   "metadata": {},
   "outputs": [],
   "source": [
    "# removing stopwords from the tokenized tweets\n",
    "stop_words = set(stopwords.words('english'))\n",
    "df['TL_text'] = df['TL_text'].apply(lambda x: [item for item in x if item not in stop_words])"
   ]
  },
  {
   "cell_type": "code",
   "execution_count": 13,
   "id": "f0df9940",
   "metadata": {},
   "outputs": [
    {
     "data": {
      "text/html": [
       "<div>\n",
       "<style scoped>\n",
       "    .dataframe tbody tr th:only-of-type {\n",
       "        vertical-align: middle;\n",
       "    }\n",
       "\n",
       "    .dataframe tbody tr th {\n",
       "        vertical-align: top;\n",
       "    }\n",
       "\n",
       "    .dataframe thead th {\n",
       "        text-align: right;\n",
       "    }\n",
       "</style>\n",
       "<table border=\"1\" class=\"dataframe\">\n",
       "  <thead>\n",
       "    <tr style=\"text-align: right;\">\n",
       "      <th></th>\n",
       "      <th>text</th>\n",
       "      <th>TL_text</th>\n",
       "    </tr>\n",
       "  </thead>\n",
       "  <tbody>\n",
       "    <tr>\n",
       "      <th>0</th>\n",
       "      <td>rt rssurjewala critical question was paytm inf...</td>\n",
       "      <td>[rt, rssurjewala, critical, question, wa, payt...</td>\n",
       "    </tr>\n",
       "    <tr>\n",
       "      <th>1</th>\n",
       "      <td>rt hemant_80 did you vote on demonetization on...</td>\n",
       "      <td>[rt, hemant, _80, vote, demonetization, modi, ...</td>\n",
       "    </tr>\n",
       "    <tr>\n",
       "      <th>2</th>\n",
       "      <td>rt roshankar former finsec rbi dy governor cbd...</td>\n",
       "      <td>[rt, roshankar, former, finsec, rbi, dy, gover...</td>\n",
       "    </tr>\n",
       "    <tr>\n",
       "      <th>3</th>\n",
       "      <td>rt ani_news gurugram haryana post office emplo...</td>\n",
       "      <td>[rt, ani_news, gurugram, haryana, post, office...</td>\n",
       "    </tr>\n",
       "    <tr>\n",
       "      <th>4</th>\n",
       "      <td>rt satishacharya reddy wedding mail_today cart...</td>\n",
       "      <td>[rt, satishacharya, reddy, wedding, mail_today...</td>\n",
       "    </tr>\n",
       "  </tbody>\n",
       "</table>\n",
       "</div>"
      ],
      "text/plain": [
       "                                                text  \\\n",
       "0  rt rssurjewala critical question was paytm inf...   \n",
       "1  rt hemant_80 did you vote on demonetization on...   \n",
       "2  rt roshankar former finsec rbi dy governor cbd...   \n",
       "3  rt ani_news gurugram haryana post office emplo...   \n",
       "4  rt satishacharya reddy wedding mail_today cart...   \n",
       "\n",
       "                                             TL_text  \n",
       "0  [rt, rssurjewala, critical, question, wa, payt...  \n",
       "1  [rt, hemant, _80, vote, demonetization, modi, ...  \n",
       "2  [rt, roshankar, former, finsec, rbi, dy, gover...  \n",
       "3  [rt, ani_news, gurugram, haryana, post, office...  \n",
       "4  [rt, satishacharya, reddy, wedding, mail_today...  "
      ]
     },
     "execution_count": 13,
     "metadata": {},
     "output_type": "execute_result"
    }
   ],
   "source": [
    "df.head()"
   ]
  },
  {
   "cell_type": "code",
   "execution_count": 14,
   "id": "80f89391",
   "metadata": {},
   "outputs": [],
   "source": [
    "# removing 'rt' from the tokenized text\n",
    "TL_text_new = []\n",
    "for i in range(df.shape[0]):\n",
    "    j = df.loc[i, 'TL_text']\n",
    "    if j[0] == 'rt':\n",
    "        j.pop(0)\n",
    "        TL_text_new.append(j)\n",
    "    else:\n",
    "        TL_text_new.append(j)\n",
    "df['TL_text_new'] = TL_text_new"
   ]
  },
  {
   "cell_type": "code",
   "execution_count": 15,
   "id": "b8af6abc",
   "metadata": {},
   "outputs": [],
   "source": [
    "# counting word frequency\n",
    "def unnesting(df, explode):\n",
    "    idx=df.index.repeat(df[explode[0]].str.len())\n",
    "    df1=pd.concat([pd.DataFrame({x:np.concatenate(df[x].values)} )for x in explode],axis=1)\n",
    "    df1.index=idx\n",
    "    return df1.join(df.drop(explode,1),how='left')"
   ]
  },
  {
   "cell_type": "code",
   "execution_count": 16,
   "id": "fd69bf97",
   "metadata": {},
   "outputs": [],
   "source": [
    "# counting word frequency\n",
    "fdist=unnesting(df,['TL_text_new'])['TL_text_new'].value_counts()"
   ]
  },
  {
   "cell_type": "code",
   "execution_count": 17,
   "id": "94b68470",
   "metadata": {},
   "outputs": [
    {
     "data": {
      "text/plain": [
       "demonetization    13995\n",
       "india              3026\n",
       "modi               2759\n",
       "pm                 2736\n",
       "narendra           1566\n",
       "                  ...  \n",
       "wenot                 1\n",
       "httpstcokcco          1\n",
       "announcing            1\n",
       "texting               1\n",
       "httpstcozc            1\n",
       "Name: TL_text_new, Length: 14700, dtype: int64"
      ]
     },
     "execution_count": 17,
     "metadata": {},
     "output_type": "execute_result"
    }
   ],
   "source": [
    "# printing word frequency\n",
    "fdist"
   ]
  },
  {
   "cell_type": "code",
   "execution_count": 48,
   "id": "1b6e3f25",
   "metadata": {},
   "outputs": [
    {
     "data": {
      "image/png": "[encoded data removed]",
      "text/plain": [
       "<Figure size 864x720 with 1 Axes>"
      ]
     },
     "metadata": {
      "needs_background": "light"
     },
     "output_type": "display_data"
    }
   ],
   "source": [
    "# forming word cloud of the data\n",
    "from wordcloud import WordCloud\n",
    "#WordCloud\n",
    "wc = WordCloud(width=800, height=400, max_words=100).generate_from_frequencies(fdist)\n",
    "plt.figure(figsize=(12,10))\n",
    "plt.imshow(wc, interpolation=\"bilinear\")\n",
    "plt.axis(\"off\")\n",
    "plt.show()"
   ]
  },
  {
   "cell_type": "markdown",
   "id": "2cedeba8",
   "metadata": {},
   "source": [
    "### In in the above word cloud we can see that demonetization is the most occuring word, followed by india, modi, pm, and narendra "
   ]
  },
  {
   "cell_type": "code",
   "execution_count": 19,
   "id": "64e52567",
   "metadata": {},
   "outputs": [
    {
     "name": "stderr",
     "output_type": "stream",
     "text": [
      "[nltk_data] Downloading package stopwords to\n",
      "[nltk_data]     C:\\Users\\Swapnil\\AppData\\Roaming\\nltk_data...\n",
      "[nltk_data]   Package stopwords is already up-to-date!\n",
      "[nltk_data] Downloading package punkt to\n",
      "[nltk_data]     C:\\Users\\Swapnil\\AppData\\Roaming\\nltk_data...\n",
      "[nltk_data]   Package punkt is already up-to-date!\n",
      "[nltk_data] Downloading package wordnet to\n",
      "[nltk_data]     C:\\Users\\Swapnil\\AppData\\Roaming\\nltk_data...\n",
      "[nltk_data]   Package wordnet is already up-to-date!\n"
     ]
    }
   ],
   "source": [
    "# importing library\n",
    "import text2emotion as te"
   ]
  },
  {
   "cell_type": "code",
   "execution_count": 21,
   "id": "1d080f7f",
   "metadata": {},
   "outputs": [],
   "source": [
    "# finding emotions from the tweets using text2emotion\n",
    "sentiment = ['']*len(df.index)\n",
    "for i in df.index:\n",
    "    sentiment[i] = te.get_emotion(df['text'][i])"
   ]
  },
  {
   "cell_type": "code",
   "execution_count": 22,
   "id": "6fb79a4f",
   "metadata": {},
   "outputs": [
    {
     "data": {
      "text/html": [
       "<div>\n",
       "<style scoped>\n",
       "    .dataframe tbody tr th:only-of-type {\n",
       "        vertical-align: middle;\n",
       "    }\n",
       "\n",
       "    .dataframe tbody tr th {\n",
       "        vertical-align: top;\n",
       "    }\n",
       "\n",
       "    .dataframe thead th {\n",
       "        text-align: right;\n",
       "    }\n",
       "</style>\n",
       "<table border=\"1\" class=\"dataframe\">\n",
       "  <thead>\n",
       "    <tr style=\"text-align: right;\">\n",
       "      <th></th>\n",
       "      <th>text</th>\n",
       "      <th>TL_text</th>\n",
       "      <th>TL_text_new</th>\n",
       "      <th>emotion</th>\n",
       "    </tr>\n",
       "  </thead>\n",
       "  <tbody>\n",
       "    <tr>\n",
       "      <th>0</th>\n",
       "      <td>rt rssurjewala critical question was paytm inf...</td>\n",
       "      <td>[rssurjewala, critical, question, wa, paytm, i...</td>\n",
       "      <td>[rssurjewala, critical, question, wa, paytm, i...</td>\n",
       "      <td>{'Happy': 0.0, 'Angry': 0.0, 'Surprise': 0.0, ...</td>\n",
       "    </tr>\n",
       "    <tr>\n",
       "      <th>1</th>\n",
       "      <td>rt hemant_80 did you vote on demonetization on...</td>\n",
       "      <td>[hemant, _80, vote, demonetization, modi, surv...</td>\n",
       "      <td>[hemant, _80, vote, demonetization, modi, surv...</td>\n",
       "      <td>{'Happy': 0.0, 'Angry': 0.0, 'Surprise': 0.0, ...</td>\n",
       "    </tr>\n",
       "    <tr>\n",
       "      <th>2</th>\n",
       "      <td>rt roshankar former finsec rbi dy governor cbd...</td>\n",
       "      <td>[roshankar, former, finsec, rbi, dy, governor,...</td>\n",
       "      <td>[roshankar, former, finsec, rbi, dy, governor,...</td>\n",
       "      <td>{'Happy': 0.0, 'Angry': 0.0, 'Surprise': 0.0, ...</td>\n",
       "    </tr>\n",
       "    <tr>\n",
       "      <th>3</th>\n",
       "      <td>rt ani_news gurugram haryana post office emplo...</td>\n",
       "      <td>[ani_news, gurugram, haryana, post, office, em...</td>\n",
       "      <td>[ani_news, gurugram, haryana, post, office, em...</td>\n",
       "      <td>{'Happy': 0, 'Angry': 0, 'Surprise': 0, 'Sad':...</td>\n",
       "    </tr>\n",
       "    <tr>\n",
       "      <th>4</th>\n",
       "      <td>rt satishacharya reddy wedding mail_today cart...</td>\n",
       "      <td>[satishacharya, reddy, wedding, mail_today, ca...</td>\n",
       "      <td>[satishacharya, reddy, wedding, mail_today, ca...</td>\n",
       "      <td>{'Happy': 0, 'Angry': 0, 'Surprise': 0, 'Sad':...</td>\n",
       "    </tr>\n",
       "  </tbody>\n",
       "</table>\n",
       "</div>"
      ],
      "text/plain": [
       "                                                text  \\\n",
       "0  rt rssurjewala critical question was paytm inf...   \n",
       "1  rt hemant_80 did you vote on demonetization on...   \n",
       "2  rt roshankar former finsec rbi dy governor cbd...   \n",
       "3  rt ani_news gurugram haryana post office emplo...   \n",
       "4  rt satishacharya reddy wedding mail_today cart...   \n",
       "\n",
       "                                             TL_text  \\\n",
       "0  [rssurjewala, critical, question, wa, paytm, i...   \n",
       "1  [hemant, _80, vote, demonetization, modi, surv...   \n",
       "2  [roshankar, former, finsec, rbi, dy, governor,...   \n",
       "3  [ani_news, gurugram, haryana, post, office, em...   \n",
       "4  [satishacharya, reddy, wedding, mail_today, ca...   \n",
       "\n",
       "                                         TL_text_new  \\\n",
       "0  [rssurjewala, critical, question, wa, paytm, i...   \n",
       "1  [hemant, _80, vote, demonetization, modi, surv...   \n",
       "2  [roshankar, former, finsec, rbi, dy, governor,...   \n",
       "3  [ani_news, gurugram, haryana, post, office, em...   \n",
       "4  [satishacharya, reddy, wedding, mail_today, ca...   \n",
       "\n",
       "                                             emotion  \n",
       "0  {'Happy': 0.0, 'Angry': 0.0, 'Surprise': 0.0, ...  \n",
       "1  {'Happy': 0.0, 'Angry': 0.0, 'Surprise': 0.0, ...  \n",
       "2  {'Happy': 0.0, 'Angry': 0.0, 'Surprise': 0.0, ...  \n",
       "3  {'Happy': 0, 'Angry': 0, 'Surprise': 0, 'Sad':...  \n",
       "4  {'Happy': 0, 'Angry': 0, 'Surprise': 0, 'Sad':...  "
      ]
     },
     "execution_count": 22,
     "metadata": {},
     "output_type": "execute_result"
    }
   ],
   "source": [
    "# adding emotions to the dataframe\n",
    "df['emotion']=sentiment\n",
    "df.head()"
   ]
  },
  {
   "cell_type": "code",
   "execution_count": 23,
   "id": "988a501e",
   "metadata": {},
   "outputs": [],
   "source": [
    "# creating seperate column for all the emotions\n",
    "Happy = []\n",
    "Angry = []\n",
    "Surprise = []\n",
    "Sad = []\n",
    "Fear = []\n",
    "for i in range(df.shape[0]):\n",
    "    res = df['emotion'][i]\n",
    "    Happy.append(res['Happy'])\n",
    "    Angry.append(res['Angry'])    \n",
    "    Surprise.append(res['Surprise'])    \n",
    "    Sad.append(res['Sad'])    \n",
    "    Fear.append(res['Fear'])"
   ]
  },
  {
   "cell_type": "code",
   "execution_count": 24,
   "id": "7509cf55",
   "metadata": {},
   "outputs": [],
   "source": [
    "# creating seperate column for all the emotions\n",
    "df['Happy'] = Happy\n",
    "df['Angry'] = Angry\n",
    "df['Surprise'] = Surprise\n",
    "df['Sad'] = Sad\n",
    "df['Fear'] = Fear"
   ]
  },
  {
   "cell_type": "code",
   "execution_count": 25,
   "id": "4371cef8",
   "metadata": {},
   "outputs": [
    {
     "name": "stderr",
     "output_type": "stream",
     "text": [
      "<ipython-input-25-89c89d2ae75c>:6: SettingWithCopyWarning: \n",
      "A value is trying to be set on a copy of a slice from a DataFrame\n",
      "\n",
      "See the caveats in the documentation: https://pandas.pydata.org/pandas-docs/stable/user_guide/indexing.html#returning-a-view-versus-a-copy\n",
      "  df['Happy'][i] = 0\n",
      "<ipython-input-25-89c89d2ae75c>:14: SettingWithCopyWarning: \n",
      "A value is trying to be set on a copy of a slice from a DataFrame\n",
      "\n",
      "See the caveats in the documentation: https://pandas.pydata.org/pandas-docs/stable/user_guide/indexing.html#returning-a-view-versus-a-copy\n",
      "  df['Fear'][i]=1\n",
      "<ipython-input-25-89c89d2ae75c>:4: SettingWithCopyWarning: \n",
      "A value is trying to be set on a copy of a slice from a DataFrame\n",
      "\n",
      "See the caveats in the documentation: https://pandas.pydata.org/pandas-docs/stable/user_guide/indexing.html#returning-a-view-versus-a-copy\n",
      "  df['Happy'][i] = 1\n",
      "<ipython-input-25-89c89d2ae75c>:12: SettingWithCopyWarning: \n",
      "A value is trying to be set on a copy of a slice from a DataFrame\n",
      "\n",
      "See the caveats in the documentation: https://pandas.pydata.org/pandas-docs/stable/user_guide/indexing.html#returning-a-view-versus-a-copy\n",
      "  df['Sad'][i] = 1\n",
      "<ipython-input-25-89c89d2ae75c>:10: SettingWithCopyWarning: \n",
      "A value is trying to be set on a copy of a slice from a DataFrame\n",
      "\n",
      "See the caveats in the documentation: https://pandas.pydata.org/pandas-docs/stable/user_guide/indexing.html#returning-a-view-versus-a-copy\n",
      "  df['Surprise'][i]=1\n",
      "<ipython-input-25-89c89d2ae75c>:8: SettingWithCopyWarning: \n",
      "A value is trying to be set on a copy of a slice from a DataFrame\n",
      "\n",
      "See the caveats in the documentation: https://pandas.pydata.org/pandas-docs/stable/user_guide/indexing.html#returning-a-view-versus-a-copy\n",
      "  df['Angry'][i] = 1\n"
     ]
    }
   ],
   "source": [
    "# placing 1 where ever the emotion value is present\n",
    "for i in range(df.shape[0]):\n",
    "    if df['Happy'][i]!=0.00:\n",
    "        df['Happy'][i] = 1\n",
    "    else:\n",
    "        df['Happy'][i] = 0\n",
    "    if df['Angry'][i]!=0.00:\n",
    "        df['Angry'][i] = 1\n",
    "    if df['Surprise'][i]!=0.00:\n",
    "        df['Surprise'][i]=1\n",
    "    if df['Sad'][i]!=0.00:\n",
    "        df['Sad'][i] = 1\n",
    "    if df['Fear'][i]!=0.00:\n",
    "        df['Fear'][i]=1"
   ]
  },
  {
   "cell_type": "code",
   "execution_count": 26,
   "id": "6c187946",
   "metadata": {},
   "outputs": [
    {
     "data": {
      "text/plain": [
       "(14940, 76)"
      ]
     },
     "execution_count": 26,
     "metadata": {},
     "output_type": "execute_result"
    }
   ],
   "source": [
    "# extracting 76 features from the tweets\n",
    "vectorizer = TfidfVectorizer(min_df= 500, sublinear_tf=True, norm='l2', ngram_range=(1,1))\n",
    "final_features = vectorizer.fit_transform(df['text'].values.astype('U')).toarray()\n",
    "final_features.shape"
   ]
  },
  {
   "cell_type": "code",
   "execution_count": 27,
   "id": "31f70771",
   "metadata": {},
   "outputs": [],
   "source": [
    "# performing train test split\n",
    "y = df[['Happy', 'Angry', 'Surprise', 'Sad', 'Fear']]\n",
    "X_train, X_test, y_train, y_test = train_test_split(final_features, y, test_size=0.2)"
   ]
  },
  {
   "cell_type": "code",
   "execution_count": 28,
   "id": "db1f34b3",
   "metadata": {},
   "outputs": [
    {
     "data": {
      "text/plain": [
       "DecisionTreeClassifier()"
      ]
     },
     "execution_count": 28,
     "metadata": {},
     "output_type": "execute_result"
    }
   ],
   "source": [
    "# applying decision tree on the dataset\n",
    "model = DecisionTreeClassifier()\n",
    "model.fit(X_train, y_train)"
   ]
  },
  {
   "cell_type": "code",
   "execution_count": 29,
   "id": "b8c2f7d6",
   "metadata": {},
   "outputs": [
    {
     "name": "stdout",
     "output_type": "stream",
     "text": [
      "              precision    recall  f1-score   support\n",
      "\n",
      "           0       0.79      0.65      0.71       379\n",
      "           1       0.83      0.81      0.82       331\n",
      "           2       0.85      0.85      0.85      1070\n",
      "           3       0.83      0.78      0.81       815\n",
      "           4       0.91      0.91      0.91      1865\n",
      "\n",
      "   micro avg       0.87      0.84      0.85      4460\n",
      "   macro avg       0.84      0.80      0.82      4460\n",
      "weighted avg       0.86      0.84      0.85      4460\n",
      " samples avg       0.75      0.75      0.74      4460\n",
      "\n",
      "0.7653949129852744\n",
      "0.9564926372155288\n"
     ]
    },
    {
     "name": "stderr",
     "output_type": "stream",
     "text": [
      "C:\\ProgramData\\Anaconda3\\lib\\site-packages\\sklearn\\metrics\\_classification.py:1245: UndefinedMetricWarning: Precision and F-score are ill-defined and being set to 0.0 in samples with no predicted labels. Use `zero_division` parameter to control this behavior.\n",
      "  _warn_prf(average, modifier, msg_start, len(result))\n",
      "C:\\ProgramData\\Anaconda3\\lib\\site-packages\\sklearn\\metrics\\_classification.py:1245: UndefinedMetricWarning: Recall and F-score are ill-defined and being set to 0.0 in samples with no true labels. Use `zero_division` parameter to control this behavior.\n",
      "  _warn_prf(average, modifier, msg_start, len(result))\n"
     ]
    }
   ],
   "source": [
    "# analysing the results\n",
    "print(classification_report(y_test, model.predict(X_test)))\n",
    "print(model.score(X_test,y_test))\n",
    "print(model.score(X_train,y_train))"
   ]
  },
  {
   "cell_type": "code",
   "execution_count": 30,
   "id": "13667069",
   "metadata": {},
   "outputs": [
    {
     "data": {
      "text/plain": [
       "RandomForestClassifier()"
      ]
     },
     "execution_count": 30,
     "metadata": {},
     "output_type": "execute_result"
    }
   ],
   "source": [
    "# applying random forest on the dataset\n",
    "model = RandomForestClassifier()\n",
    "model.fit(X_train, y_train)"
   ]
  },
  {
   "cell_type": "code",
   "execution_count": 31,
   "id": "c1da729c",
   "metadata": {},
   "outputs": [
    {
     "name": "stderr",
     "output_type": "stream",
     "text": [
      "C:\\ProgramData\\Anaconda3\\lib\\site-packages\\sklearn\\metrics\\_classification.py:1245: UndefinedMetricWarning: Precision and F-score are ill-defined and being set to 0.0 in samples with no predicted labels. Use `zero_division` parameter to control this behavior.\n",
      "  _warn_prf(average, modifier, msg_start, len(result))\n",
      "C:\\ProgramData\\Anaconda3\\lib\\site-packages\\sklearn\\metrics\\_classification.py:1245: UndefinedMetricWarning: Recall and F-score are ill-defined and being set to 0.0 in samples with no true labels. Use `zero_division` parameter to control this behavior.\n",
      "  _warn_prf(average, modifier, msg_start, len(result))\n"
     ]
    },
    {
     "name": "stdout",
     "output_type": "stream",
     "text": [
      "              precision    recall  f1-score   support\n",
      "\n",
      "           0       0.97      0.59      0.74       379\n",
      "           1       0.97      0.80      0.88       331\n",
      "           2       0.94      0.81      0.87      1070\n",
      "           3       0.94      0.74      0.83       815\n",
      "           4       0.90      0.94      0.92      1865\n",
      "\n",
      "   micro avg       0.93      0.83      0.88      4460\n",
      "   macro avg       0.94      0.78      0.85      4460\n",
      "weighted avg       0.93      0.83      0.87      4460\n",
      " samples avg       0.77      0.74      0.75      4460\n",
      "\n",
      "0.7921686746987951\n",
      "0.9565763052208835\n"
     ]
    }
   ],
   "source": [
    "# analysing the results\n",
    "print(classification_report(y_test, model.predict(X_test)))\n",
    "print(model.score(X_test,y_test))\n",
    "print(model.score(X_train,y_train))"
   ]
  },
  {
   "cell_type": "markdown",
   "id": "23b4e486",
   "metadata": {},
   "source": [
    "### In the above results we can see that random forest has outperformed decision tree, giving an accuracy of 80.32%."
   ]
  },
  {
   "cell_type": "code",
   "execution_count": 32,
   "id": "cad64092",
   "metadata": {},
   "outputs": [],
   "source": [
    "# importing libraries\n",
    "from nltk.sentiment import SentimentIntensityAnalyzer"
   ]
  },
  {
   "cell_type": "code",
   "execution_count": 33,
   "id": "b295add0",
   "metadata": {},
   "outputs": [],
   "source": [
    "# Creating SentimentIntensityAnalyzer object\n",
    "sia=SentimentIntensityAnalyzer()"
   ]
  },
  {
   "cell_type": "code",
   "execution_count": 34,
   "id": "19a5be60",
   "metadata": {},
   "outputs": [
    {
     "data": {
      "text/html": [
       "<div>\n",
       "<style scoped>\n",
       "    .dataframe tbody tr th:only-of-type {\n",
       "        vertical-align: middle;\n",
       "    }\n",
       "\n",
       "    .dataframe tbody tr th {\n",
       "        vertical-align: top;\n",
       "    }\n",
       "\n",
       "    .dataframe thead th {\n",
       "        text-align: right;\n",
       "    }\n",
       "</style>\n",
       "<table border=\"1\" class=\"dataframe\">\n",
       "  <thead>\n",
       "    <tr style=\"text-align: right;\">\n",
       "      <th></th>\n",
       "      <th>text</th>\n",
       "      <th>TL_text</th>\n",
       "      <th>TL_text_new</th>\n",
       "      <th>emotion</th>\n",
       "      <th>Happy</th>\n",
       "      <th>Angry</th>\n",
       "      <th>Surprise</th>\n",
       "      <th>Sad</th>\n",
       "      <th>Fear</th>\n",
       "      <th>Sentiment</th>\n",
       "      <th>neg</th>\n",
       "      <th>neu</th>\n",
       "      <th>pos</th>\n",
       "      <th>compound</th>\n",
       "    </tr>\n",
       "  </thead>\n",
       "  <tbody>\n",
       "    <tr>\n",
       "      <th>0</th>\n",
       "      <td>rt rssurjewala critical question was paytm inf...</td>\n",
       "      <td>[rssurjewala, critical, question, wa, paytm, i...</td>\n",
       "      <td>[rssurjewala, critical, question, wa, paytm, i...</td>\n",
       "      <td>{'Happy': 0.0, 'Angry': 0.0, 'Surprise': 0.0, ...</td>\n",
       "      <td>0.0</td>\n",
       "      <td>0.0</td>\n",
       "      <td>0.0</td>\n",
       "      <td>0.0</td>\n",
       "      <td>1.0</td>\n",
       "      <td>{'neg': 0.1, 'neu': 0.783, 'pos': 0.117, 'comp...</td>\n",
       "      <td>0.1</td>\n",
       "      <td>0.783</td>\n",
       "      <td>0.117</td>\n",
       "      <td>0.1027</td>\n",
       "    </tr>\n",
       "    <tr>\n",
       "      <th>1</th>\n",
       "      <td>rt hemant_80 did you vote on demonetization on...</td>\n",
       "      <td>[hemant, _80, vote, demonetization, modi, surv...</td>\n",
       "      <td>[hemant, _80, vote, demonetization, modi, surv...</td>\n",
       "      <td>{'Happy': 0.0, 'Angry': 0.0, 'Surprise': 0.0, ...</td>\n",
       "      <td>0.0</td>\n",
       "      <td>0.0</td>\n",
       "      <td>0.0</td>\n",
       "      <td>0.0</td>\n",
       "      <td>1.0</td>\n",
       "      <td>{'neg': 0.0, 'neu': 1.0, 'pos': 0.0, 'compound...</td>\n",
       "      <td>0.0</td>\n",
       "      <td>1.000</td>\n",
       "      <td>0.000</td>\n",
       "      <td>0.0000</td>\n",
       "    </tr>\n",
       "    <tr>\n",
       "      <th>2</th>\n",
       "      <td>rt roshankar former finsec rbi dy governor cbd...</td>\n",
       "      <td>[roshankar, former, finsec, rbi, dy, governor,...</td>\n",
       "      <td>[roshankar, former, finsec, rbi, dy, governor,...</td>\n",
       "      <td>{'Happy': 0.0, 'Angry': 0.0, 'Surprise': 0.0, ...</td>\n",
       "      <td>0.0</td>\n",
       "      <td>0.0</td>\n",
       "      <td>0.0</td>\n",
       "      <td>0.0</td>\n",
       "      <td>1.0</td>\n",
       "      <td>{'neg': 0.0, 'neu': 1.0, 'pos': 0.0, 'compound...</td>\n",
       "      <td>0.0</td>\n",
       "      <td>1.000</td>\n",
       "      <td>0.000</td>\n",
       "      <td>0.0000</td>\n",
       "    </tr>\n",
       "    <tr>\n",
       "      <th>3</th>\n",
       "      <td>rt ani_news gurugram haryana post office emplo...</td>\n",
       "      <td>[ani_news, gurugram, haryana, post, office, em...</td>\n",
       "      <td>[ani_news, gurugram, haryana, post, office, em...</td>\n",
       "      <td>{'Happy': 0, 'Angry': 0, 'Surprise': 0, 'Sad':...</td>\n",
       "      <td>0.0</td>\n",
       "      <td>0.0</td>\n",
       "      <td>0.0</td>\n",
       "      <td>0.0</td>\n",
       "      <td>0.0</td>\n",
       "      <td>{'neg': 0.0, 'neu': 1.0, 'pos': 0.0, 'compound...</td>\n",
       "      <td>0.0</td>\n",
       "      <td>1.000</td>\n",
       "      <td>0.000</td>\n",
       "      <td>0.0000</td>\n",
       "    </tr>\n",
       "    <tr>\n",
       "      <th>4</th>\n",
       "      <td>rt satishacharya reddy wedding mail_today cart...</td>\n",
       "      <td>[satishacharya, reddy, wedding, mail_today, ca...</td>\n",
       "      <td>[satishacharya, reddy, wedding, mail_today, ca...</td>\n",
       "      <td>{'Happy': 0, 'Angry': 0, 'Surprise': 0, 'Sad':...</td>\n",
       "      <td>0.0</td>\n",
       "      <td>0.0</td>\n",
       "      <td>0.0</td>\n",
       "      <td>0.0</td>\n",
       "      <td>0.0</td>\n",
       "      <td>{'neg': 0.0, 'neu': 1.0, 'pos': 0.0, 'compound...</td>\n",
       "      <td>0.0</td>\n",
       "      <td>1.000</td>\n",
       "      <td>0.000</td>\n",
       "      <td>0.0000</td>\n",
       "    </tr>\n",
       "  </tbody>\n",
       "</table>\n",
       "</div>"
      ],
      "text/plain": [
       "                                                text  \\\n",
       "0  rt rssurjewala critical question was paytm inf...   \n",
       "1  rt hemant_80 did you vote on demonetization on...   \n",
       "2  rt roshankar former finsec rbi dy governor cbd...   \n",
       "3  rt ani_news gurugram haryana post office emplo...   \n",
       "4  rt satishacharya reddy wedding mail_today cart...   \n",
       "\n",
       "                                             TL_text  \\\n",
       "0  [rssurjewala, critical, question, wa, paytm, i...   \n",
       "1  [hemant, _80, vote, demonetization, modi, surv...   \n",
       "2  [roshankar, former, finsec, rbi, dy, governor,...   \n",
       "3  [ani_news, gurugram, haryana, post, office, em...   \n",
       "4  [satishacharya, reddy, wedding, mail_today, ca...   \n",
       "\n",
       "                                         TL_text_new  \\\n",
       "0  [rssurjewala, critical, question, wa, paytm, i...   \n",
       "1  [hemant, _80, vote, demonetization, modi, surv...   \n",
       "2  [roshankar, former, finsec, rbi, dy, governor,...   \n",
       "3  [ani_news, gurugram, haryana, post, office, em...   \n",
       "4  [satishacharya, reddy, wedding, mail_today, ca...   \n",
       "\n",
       "                                             emotion  Happy  Angry  Surprise  \\\n",
       "0  {'Happy': 0.0, 'Angry': 0.0, 'Surprise': 0.0, ...    0.0    0.0       0.0   \n",
       "1  {'Happy': 0.0, 'Angry': 0.0, 'Surprise': 0.0, ...    0.0    0.0       0.0   \n",
       "2  {'Happy': 0.0, 'Angry': 0.0, 'Surprise': 0.0, ...    0.0    0.0       0.0   \n",
       "3  {'Happy': 0, 'Angry': 0, 'Surprise': 0, 'Sad':...    0.0    0.0       0.0   \n",
       "4  {'Happy': 0, 'Angry': 0, 'Surprise': 0, 'Sad':...    0.0    0.0       0.0   \n",
       "\n",
       "   Sad  Fear                                          Sentiment  neg    neu  \\\n",
       "0  0.0   1.0  {'neg': 0.1, 'neu': 0.783, 'pos': 0.117, 'comp...  0.1  0.783   \n",
       "1  0.0   1.0  {'neg': 0.0, 'neu': 1.0, 'pos': 0.0, 'compound...  0.0  1.000   \n",
       "2  0.0   1.0  {'neg': 0.0, 'neu': 1.0, 'pos': 0.0, 'compound...  0.0  1.000   \n",
       "3  0.0   0.0  {'neg': 0.0, 'neu': 1.0, 'pos': 0.0, 'compound...  0.0  1.000   \n",
       "4  0.0   0.0  {'neg': 0.0, 'neu': 1.0, 'pos': 0.0, 'compound...  0.0  1.000   \n",
       "\n",
       "     pos  compound  \n",
       "0  0.117    0.1027  \n",
       "1  0.000    0.0000  \n",
       "2  0.000    0.0000  \n",
       "3  0.000    0.0000  \n",
       "4  0.000    0.0000  "
      ]
     },
     "execution_count": 34,
     "metadata": {},
     "output_type": "execute_result"
    }
   ],
   "source": [
    "# sentiment intensity for each tweet is calculated\n",
    "df['Sentiment']=df['text'].apply(lambda text:sia.polarity_scores(str(text)))\n",
    "df = pd.concat([df, df.Sentiment.dropna().apply(pd.Series)], axis=1)\n",
    "df.head()"
   ]
  },
  {
   "cell_type": "code",
   "execution_count": 35,
   "id": "6c45eae7",
   "metadata": {},
   "outputs": [],
   "source": [
    "# function for converting to whole number\n",
    "def out(x):\n",
    "    if(x>0):\n",
    "        return 1\n",
    "    elif(x<0):\n",
    "        return -1\n",
    "    else:\n",
    "        return 0"
   ]
  },
  {
   "cell_type": "code",
   "execution_count": 36,
   "id": "5b8700e0",
   "metadata": {},
   "outputs": [
    {
     "data": {
      "text/html": [
       "<div>\n",
       "<style scoped>\n",
       "    .dataframe tbody tr th:only-of-type {\n",
       "        vertical-align: middle;\n",
       "    }\n",
       "\n",
       "    .dataframe tbody tr th {\n",
       "        vertical-align: top;\n",
       "    }\n",
       "\n",
       "    .dataframe thead th {\n",
       "        text-align: right;\n",
       "    }\n",
       "</style>\n",
       "<table border=\"1\" class=\"dataframe\">\n",
       "  <thead>\n",
       "    <tr style=\"text-align: right;\">\n",
       "      <th></th>\n",
       "      <th>text</th>\n",
       "      <th>TL_text</th>\n",
       "      <th>TL_text_new</th>\n",
       "      <th>emotion</th>\n",
       "      <th>Happy</th>\n",
       "      <th>Angry</th>\n",
       "      <th>Surprise</th>\n",
       "      <th>Sad</th>\n",
       "      <th>Fear</th>\n",
       "      <th>Sentiment</th>\n",
       "      <th>neg</th>\n",
       "      <th>neu</th>\n",
       "      <th>pos</th>\n",
       "      <th>compound</th>\n",
       "      <th>neg1</th>\n",
       "      <th>neu1</th>\n",
       "      <th>pos1</th>\n",
       "    </tr>\n",
       "  </thead>\n",
       "  <tbody>\n",
       "    <tr>\n",
       "      <th>0</th>\n",
       "      <td>rt rssurjewala critical question was paytm inf...</td>\n",
       "      <td>[rssurjewala, critical, question, wa, paytm, i...</td>\n",
       "      <td>[rssurjewala, critical, question, wa, paytm, i...</td>\n",
       "      <td>{'Happy': 0.0, 'Angry': 0.0, 'Surprise': 0.0, ...</td>\n",
       "      <td>0.0</td>\n",
       "      <td>0.0</td>\n",
       "      <td>0.0</td>\n",
       "      <td>0.0</td>\n",
       "      <td>1.0</td>\n",
       "      <td>{'neg': 0.1, 'neu': 0.783, 'pos': 0.117, 'comp...</td>\n",
       "      <td>0.1</td>\n",
       "      <td>0.783</td>\n",
       "      <td>0.117</td>\n",
       "      <td>0.1027</td>\n",
       "      <td>1</td>\n",
       "      <td>1</td>\n",
       "      <td>1</td>\n",
       "    </tr>\n",
       "    <tr>\n",
       "      <th>1</th>\n",
       "      <td>rt hemant_80 did you vote on demonetization on...</td>\n",
       "      <td>[hemant, _80, vote, demonetization, modi, surv...</td>\n",
       "      <td>[hemant, _80, vote, demonetization, modi, surv...</td>\n",
       "      <td>{'Happy': 0.0, 'Angry': 0.0, 'Surprise': 0.0, ...</td>\n",
       "      <td>0.0</td>\n",
       "      <td>0.0</td>\n",
       "      <td>0.0</td>\n",
       "      <td>0.0</td>\n",
       "      <td>1.0</td>\n",
       "      <td>{'neg': 0.0, 'neu': 1.0, 'pos': 0.0, 'compound...</td>\n",
       "      <td>0.0</td>\n",
       "      <td>1.000</td>\n",
       "      <td>0.000</td>\n",
       "      <td>0.0000</td>\n",
       "      <td>0</td>\n",
       "      <td>1</td>\n",
       "      <td>0</td>\n",
       "    </tr>\n",
       "    <tr>\n",
       "      <th>2</th>\n",
       "      <td>rt roshankar former finsec rbi dy governor cbd...</td>\n",
       "      <td>[roshankar, former, finsec, rbi, dy, governor,...</td>\n",
       "      <td>[roshankar, former, finsec, rbi, dy, governor,...</td>\n",
       "      <td>{'Happy': 0.0, 'Angry': 0.0, 'Surprise': 0.0, ...</td>\n",
       "      <td>0.0</td>\n",
       "      <td>0.0</td>\n",
       "      <td>0.0</td>\n",
       "      <td>0.0</td>\n",
       "      <td>1.0</td>\n",
       "      <td>{'neg': 0.0, 'neu': 1.0, 'pos': 0.0, 'compound...</td>\n",
       "      <td>0.0</td>\n",
       "      <td>1.000</td>\n",
       "      <td>0.000</td>\n",
       "      <td>0.0000</td>\n",
       "      <td>0</td>\n",
       "      <td>1</td>\n",
       "      <td>0</td>\n",
       "    </tr>\n",
       "    <tr>\n",
       "      <th>3</th>\n",
       "      <td>rt ani_news gurugram haryana post office emplo...</td>\n",
       "      <td>[ani_news, gurugram, haryana, post, office, em...</td>\n",
       "      <td>[ani_news, gurugram, haryana, post, office, em...</td>\n",
       "      <td>{'Happy': 0, 'Angry': 0, 'Surprise': 0, 'Sad':...</td>\n",
       "      <td>0.0</td>\n",
       "      <td>0.0</td>\n",
       "      <td>0.0</td>\n",
       "      <td>0.0</td>\n",
       "      <td>0.0</td>\n",
       "      <td>{'neg': 0.0, 'neu': 1.0, 'pos': 0.0, 'compound...</td>\n",
       "      <td>0.0</td>\n",
       "      <td>1.000</td>\n",
       "      <td>0.000</td>\n",
       "      <td>0.0000</td>\n",
       "      <td>0</td>\n",
       "      <td>1</td>\n",
       "      <td>0</td>\n",
       "    </tr>\n",
       "    <tr>\n",
       "      <th>4</th>\n",
       "      <td>rt satishacharya reddy wedding mail_today cart...</td>\n",
       "      <td>[satishacharya, reddy, wedding, mail_today, ca...</td>\n",
       "      <td>[satishacharya, reddy, wedding, mail_today, ca...</td>\n",
       "      <td>{'Happy': 0, 'Angry': 0, 'Surprise': 0, 'Sad':...</td>\n",
       "      <td>0.0</td>\n",
       "      <td>0.0</td>\n",
       "      <td>0.0</td>\n",
       "      <td>0.0</td>\n",
       "      <td>0.0</td>\n",
       "      <td>{'neg': 0.0, 'neu': 1.0, 'pos': 0.0, 'compound...</td>\n",
       "      <td>0.0</td>\n",
       "      <td>1.000</td>\n",
       "      <td>0.000</td>\n",
       "      <td>0.0000</td>\n",
       "      <td>0</td>\n",
       "      <td>1</td>\n",
       "      <td>0</td>\n",
       "    </tr>\n",
       "  </tbody>\n",
       "</table>\n",
       "</div>"
      ],
      "text/plain": [
       "                                                text  \\\n",
       "0  rt rssurjewala critical question was paytm inf...   \n",
       "1  rt hemant_80 did you vote on demonetization on...   \n",
       "2  rt roshankar former finsec rbi dy governor cbd...   \n",
       "3  rt ani_news gurugram haryana post office emplo...   \n",
       "4  rt satishacharya reddy wedding mail_today cart...   \n",
       "\n",
       "                                             TL_text  \\\n",
       "0  [rssurjewala, critical, question, wa, paytm, i...   \n",
       "1  [hemant, _80, vote, demonetization, modi, surv...   \n",
       "2  [roshankar, former, finsec, rbi, dy, governor,...   \n",
       "3  [ani_news, gurugram, haryana, post, office, em...   \n",
       "4  [satishacharya, reddy, wedding, mail_today, ca...   \n",
       "\n",
       "                                         TL_text_new  \\\n",
       "0  [rssurjewala, critical, question, wa, paytm, i...   \n",
       "1  [hemant, _80, vote, demonetization, modi, surv...   \n",
       "2  [roshankar, former, finsec, rbi, dy, governor,...   \n",
       "3  [ani_news, gurugram, haryana, post, office, em...   \n",
       "4  [satishacharya, reddy, wedding, mail_today, ca...   \n",
       "\n",
       "                                             emotion  Happy  Angry  Surprise  \\\n",
       "0  {'Happy': 0.0, 'Angry': 0.0, 'Surprise': 0.0, ...    0.0    0.0       0.0   \n",
       "1  {'Happy': 0.0, 'Angry': 0.0, 'Surprise': 0.0, ...    0.0    0.0       0.0   \n",
       "2  {'Happy': 0.0, 'Angry': 0.0, 'Surprise': 0.0, ...    0.0    0.0       0.0   \n",
       "3  {'Happy': 0, 'Angry': 0, 'Surprise': 0, 'Sad':...    0.0    0.0       0.0   \n",
       "4  {'Happy': 0, 'Angry': 0, 'Surprise': 0, 'Sad':...    0.0    0.0       0.0   \n",
       "\n",
       "   Sad  Fear                                          Sentiment  neg    neu  \\\n",
       "0  0.0   1.0  {'neg': 0.1, 'neu': 0.783, 'pos': 0.117, 'comp...  0.1  0.783   \n",
       "1  0.0   1.0  {'neg': 0.0, 'neu': 1.0, 'pos': 0.0, 'compound...  0.0  1.000   \n",
       "2  0.0   1.0  {'neg': 0.0, 'neu': 1.0, 'pos': 0.0, 'compound...  0.0  1.000   \n",
       "3  0.0   0.0  {'neg': 0.0, 'neu': 1.0, 'pos': 0.0, 'compound...  0.0  1.000   \n",
       "4  0.0   0.0  {'neg': 0.0, 'neu': 1.0, 'pos': 0.0, 'compound...  0.0  1.000   \n",
       "\n",
       "     pos  compound  neg1  neu1  pos1  \n",
       "0  0.117    0.1027     1     1     1  \n",
       "1  0.000    0.0000     0     1     0  \n",
       "2  0.000    0.0000     0     1     0  \n",
       "3  0.000    0.0000     0     1     0  \n",
       "4  0.000    0.0000     0     1     0  "
      ]
     },
     "execution_count": 36,
     "metadata": {},
     "output_type": "execute_result"
    }
   ],
   "source": [
    "# getting the whole numbers for sentiments\n",
    "df['neg1']=df['neg'].apply(out)\n",
    "df['neu1']=df['neu'].apply(out)\n",
    "df['pos1']=df['pos'].apply(out)\n",
    "df.head()"
   ]
  },
  {
   "cell_type": "code",
   "execution_count": 37,
   "id": "ff499868",
   "metadata": {},
   "outputs": [
    {
     "data": {
      "text/plain": [
       "array([[1, 1, 1],\n",
       "       [0, 1, 0],\n",
       "       [0, 1, 0],\n",
       "       ...,\n",
       "       [1, 1, 1],\n",
       "       [1, 1, 1],\n",
       "       [1, 1, 1]], dtype=int64)"
      ]
     },
     "execution_count": 37,
     "metadata": {},
     "output_type": "execute_result"
    }
   ],
   "source": [
    "# assigning labels\n",
    "y = df[['neg1', 'neu1', 'pos1']]\n",
    "y = np.array(y)\n",
    "y"
   ]
  },
  {
   "cell_type": "code",
   "execution_count": 38,
   "id": "b9eed124",
   "metadata": {},
   "outputs": [],
   "source": [
    "# splitting training and testing data\n",
    "x_train, x_test, y_train, y_test = train_test_split(final_features, y, test_size=0.2)"
   ]
  },
  {
   "cell_type": "code",
   "execution_count": 39,
   "id": "5f004725",
   "metadata": {},
   "outputs": [
    {
     "data": {
      "text/plain": [
       "DecisionTreeClassifier()"
      ]
     },
     "execution_count": 39,
     "metadata": {},
     "output_type": "execute_result"
    }
   ],
   "source": [
    "# applying decision tree on the sentiment data\n",
    "model = DecisionTreeClassifier()\n",
    "model.fit(x_train, y_train)"
   ]
  },
  {
   "cell_type": "code",
   "execution_count": 40,
   "id": "271fe482",
   "metadata": {},
   "outputs": [
    {
     "name": "stdout",
     "output_type": "stream",
     "text": [
      "              precision    recall  f1-score   support\n",
      "\n",
      "           0       0.85      0.83      0.84      1061\n",
      "           1       1.00      1.00      1.00      2988\n",
      "           2       0.90      0.88      0.89      1588\n",
      "\n",
      "   micro avg       0.95      0.93      0.94      5637\n",
      "   macro avg       0.92      0.90      0.91      5637\n",
      "weighted avg       0.95      0.93      0.94      5637\n",
      " samples avg       0.96      0.95      0.94      5637\n",
      "\n",
      "0.8263052208835341\n",
      "0.9679551539491299\n"
     ]
    }
   ],
   "source": [
    "# viewing results\n",
    "print(classification_report(y_test, model.predict(x_test)))\n",
    "print(model.score(x_test,y_test))\n",
    "print(model.score(x_train,y_train))"
   ]
  },
  {
   "cell_type": "code",
   "execution_count": 41,
   "id": "5863ed92",
   "metadata": {},
   "outputs": [
    {
     "data": {
      "text/plain": [
       "RandomForestClassifier()"
      ]
     },
     "execution_count": 41,
     "metadata": {},
     "output_type": "execute_result"
    }
   ],
   "source": [
    "# applying random forest to the data\n",
    "model = RandomForestClassifier()\n",
    "model.fit(x_train, y_train)"
   ]
  },
  {
   "cell_type": "code",
   "execution_count": 42,
   "id": "4ea08a22",
   "metadata": {},
   "outputs": [
    {
     "name": "stdout",
     "output_type": "stream",
     "text": [
      "              precision    recall  f1-score   support\n",
      "\n",
      "           0       0.90      0.83      0.86      1061\n",
      "           1       1.00      1.00      1.00      2988\n",
      "           2       0.92      0.88      0.90      1588\n",
      "\n",
      "   micro avg       0.96      0.94      0.95      5637\n",
      "   macro avg       0.94      0.90      0.92      5637\n",
      "weighted avg       0.96      0.94      0.95      5637\n",
      " samples avg       0.97      0.95      0.95      5637\n",
      "\n",
      "0.8440428380187416\n",
      "0.9681224899598394\n"
     ]
    }
   ],
   "source": [
    "#viewing results\n",
    "print(classification_report(y_test, model.predict(x_test)))\n",
    "print(model.score(x_test,y_test))\n",
    "print(model.score(x_train,y_train))"
   ]
  },
  {
   "cell_type": "markdown",
   "id": "fd9ae5fa",
   "metadata": {},
   "source": [
    "### In the above results we can see that random forest has outperformed decision tree, giving an accuracy of 83.70%. If these results are compared with the results of emotion classification, sentiment classification gives better results. "
   ]
  },
  {
   "cell_type": "code",
   "execution_count": 43,
   "id": "48d33281",
   "metadata": {},
   "outputs": [],
   "source": [
    "# finding the sum of each sentiment\n",
    "negsum=np.sum(df.neg)\n",
    "possum=np.sum(df.pos)\n",
    "neusum=np.sum(df.neu)"
   ]
  },
  {
   "cell_type": "code",
   "execution_count": 44,
   "id": "990fa3d7",
   "metadata": {},
   "outputs": [
    {
     "data": {
      "image/png": "[encoded data removed]",
      "text/plain": [
       "<Figure size 432x288 with 1 Axes>"
      ]
     },
     "metadata": {},
     "output_type": "display_data"
    }
   ],
   "source": [
    "# creating a pie chart of sentiment\n",
    "plt.figure()\n",
    "arr=np.array([negsum,possum,neusum])\n",
    "mylabels=['Negetive','Positive','Neutral']\n",
    "plt.pie(arr,labels=mylabels)\n",
    "plt.show()"
   ]
  },
  {
   "cell_type": "code",
   "execution_count": 45,
   "id": "4a4698ec",
   "metadata": {},
   "outputs": [
    {
     "data": {
      "image/png": "[encoded data removed]",
      "text/plain": [
       "<Figure size 432x288 with 1 Axes>"
      ]
     },
     "metadata": {
      "needs_background": "light"
     },
     "output_type": "display_data"
    }
   ],
   "source": [
    "plt.figure()\n",
    "ar=np.array([possum,negsum])\n",
    "plt.bar(x=['Positive','Negetive'],height=ar,width=0.5,align='center')\n",
    "plt.show()"
   ]
  },
  {
   "cell_type": "markdown",
   "id": "9931eb07",
   "metadata": {},
   "source": [
    "## Based on the pie chart and bar graph we can say that people had "
   ]
  },
  {
   "cell_type": "code",
   "execution_count": 46,
   "id": "53a2709d",
   "metadata": {},
   "outputs": [],
   "source": [
    "# finding the sum of each emotion\n",
    "happysum=np.sum(df.Happy)\n",
    "sadsum=np.sum(df.Sad)\n",
    "fearsum=np.sum(df.Fear)\n",
    "angrysum=np.sum(df.Angry)\n",
    "surprisesum=np.sum(df.Surprise)"
   ]
  },
  {
   "cell_type": "code",
   "execution_count": 47,
   "id": "0c87dd40",
   "metadata": {},
   "outputs": [
    {
     "data": {
      "image/png": "[encoded data removed]",
      "text/plain": [
       "<Figure size 432x288 with 1 Axes>"
      ]
     },
     "metadata": {},
     "output_type": "display_data"
    }
   ],
   "source": [
    "# creating a pie chart of emotion\n",
    "plt.figure()\n",
    "arr=np.array([happysum,sadsum,fearsum,angrysum,surprisesum])\n",
    "mylabels=['Happy','Sad','Fear','Angry','Surprise']\n",
    "plt.pie(arr,labels=mylabels)\n",
    "plt.show()"
   ]
  },
  {
   "cell_type": "markdown",
   "id": "2c9d4b53",
   "metadata": {},
   "source": [
    "### In emotion analysis we can see that the most prominet emtion is fear, as citizen were anticipating a lot of circumstances which could follow demonetization, the next most prominet emotion was surprise, indicating that people were taken by surprise by the steps taken by the Govenment of India. As seen, sad is also prominent in the pie chart."
   ]
  }
 ],
 "metadata": {
  "kernelspec": {
   "display_name": "Python 3",
   "language": "python",
   "name": "python3"
  },
  "language_info": {
   "codemirror_mode": {
    "name": "ipython",
    "version": 3
   },
   "file_extension": ".py",
   "mimetype": "text/x-python",
   "name": "python",
   "nbconvert_exporter": "python",
   "pygments_lexer": "ipython3",
   "version": "3.8.8"
  }
 },
 "nbformat": 4,
 "nbformat_minor": 5
}
